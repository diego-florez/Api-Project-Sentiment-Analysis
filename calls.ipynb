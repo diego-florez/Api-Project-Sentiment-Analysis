{
 "cells": [
  {
   "cell_type": "code",
   "execution_count": 12,
   "metadata": {},
   "outputs": [],
   "source": [
    "import requests"
   ]
  },
  {
   "cell_type": "markdown",
   "metadata": {},
   "source": [
    "# API Connect"
   ]
  },
  {
   "cell_type": "code",
   "execution_count": 92,
   "metadata": {
    "scrolled": true
   },
   "outputs": [
    {
     "data": {
      "text/plain": [
       "{'Hi! Welcome to the cartoon App': 'We will be guiding you through the whole process. 1st use the following command to add your user and create a chat: /user/add. However, if you have any doubts during the procress, you can find all the info of how to use it here --> https://github.com/diego-florez/Api-Project-Sentiment-Analysis '}"
      ]
     },
     "execution_count": 92,
     "metadata": {},
     "output_type": "execute_result"
    }
   ],
   "source": [
    "url = \"http://localhost:3500/\"\n",
    "requests.get(url).json()"
   ]
  },
  {
   "cell_type": "markdown",
   "metadata": {},
   "source": [
    "# Add User + Create Chat (with post)"
   ]
  },
  {
   "cell_type": "code",
   "execution_count": 109,
   "metadata": {
    "scrolled": false
   },
   "outputs": [
    {
     "data": {
      "text/plain": [
       "'{\\n  \"Congrats! You have been added to the cartoon App\": \"However your chat is empty, so you wanna know new friends? Please use the following command: user/<name>/<chat_name>/recommend\"\\n}\\n'"
      ]
     },
     "execution_count": 109,
     "metadata": {},
     "output_type": "execute_result"
    }
   ],
   "source": [
    "url = \"http://localhost:3500/user/add\"\n",
    "\n",
    "myobj = {\"chat_name\":\"nasties\",'name': 'juanjo', \"text\": \"today is a super cool day\"}\n",
    "\n",
    "requests.post(url, data = myobj).text"
   ]
  },
  {
   "cell_type": "markdown",
   "metadata": {},
   "source": [
    "# Add User + Create Chat (with get)"
   ]
  },
  {
   "cell_type": "code",
   "execution_count": 110,
   "metadata": {},
   "outputs": [
    {
     "name": "stdout",
     "output_type": "stream",
     "text": [
      "{\n",
      "  \"Congrats! You have been added to the cartoon App\": \"However your chat is empty, so you wanna know new friends? Please use the following command: user/<name>/<chat_name>/recommend\"\n",
      "}\n",
      "\n"
     ]
    }
   ],
   "source": [
    "name = \"john\"\n",
    "chat_name = \"nasties\"\n",
    "text = \"I will see if finally I can go this summer to the sea\"\n",
    "url = f\"http://localhost:3500/user/{name}/{chat_name}/{text}/create\"\n",
    "\n",
    "data = requests.get(url).text\n",
    "print(data)"
   ]
  },
  {
   "cell_type": "markdown",
   "metadata": {},
   "source": [
    "# User Recommend"
   ]
  },
  {
   "cell_type": "code",
   "execution_count": 111,
   "metadata": {
    "scrolled": false
   },
   "outputs": [
    {
     "name": "stdout",
     "output_type": "stream",
     "text": [
      "{\n",
      "  \"By the way\": \"If you want to analyze the sentiment of your new friends use the command /user/<phrase>/get_sentiment\", \n",
      "  \"Here you have your most similar users and their similarity with you!\": {\n",
      "    \"0\": {\n",
      "      \"Phrase\": \"I see.\", \n",
      "      \"Similarity\": 0.3364017588895607, \n",
      "      \"User\": \"C. Montgomery Burns\"\n",
      "    }, \n",
      "    \"1\": {\n",
      "      \"Phrase\": \"Oh, finally! \", \n",
      "      \"Similarity\": 0.3102864275586729, \n",
      "      \"User\": \"Randy\"\n",
      "    }, \n",
      "    \"2\": {\n",
      "      \"Phrase\": \"I TIVO every episode. We can go to my house and see what they did.\", \n",
      "      \"Similarity\": 0.24413248590900555, \n",
      "      \"User\": \"Kyle\"\n",
      "    }, \n",
      "    \"3\": {\n",
      "      \"Phrase\": \"Dude, can I go before you?\", \n",
      "      \"Similarity\": 0.24239442177217202, \n",
      "      \"User\": \"Cartman\"\n",
      "    }, \n",
      "    \"4\": {\n",
      "      \"Phrase\": \"I have to go to the bathroom, Bart.\", \n",
      "      \"Similarity\": 0.21459271978280392, \n",
      "      \"User\": \"Martin Prince\"\n",
      "    }, \n",
      "    \"5\": {\n",
      "      \"Phrase\": \"I will. I will get everyone to drive hybrid cars! I swear it!\", \n",
      "      \"Similarity\": 0.20703793307018203, \n",
      "      \"User\": \"Stan\"\n",
      "    }\n",
      "  }, \n",
      "  \"They are cool right?\": \"Now you can use again the command user/<name>/<chat_name>/<text>/create again to create a chat with your friends or add them to your current chat\"\n",
      "}\n",
      "\n"
     ]
    }
   ],
   "source": [
    "name = \"john\"\n",
    "chat_name = \"nasties\"\n",
    "url = f\"http://localhost:3500/user/{name}/{chat_name}/recommend\"\n",
    "\n",
    "data = requests.get(url).text\n",
    "print(data)"
   ]
  },
  {
   "cell_type": "markdown",
   "metadata": {},
   "source": [
    "# Get Sentiment"
   ]
  },
  {
   "cell_type": "code",
   "execution_count": 112,
   "metadata": {},
   "outputs": [
    {
     "name": "stdout",
     "output_type": "stream",
     "text": [
      "{\n",
      "  \"compound\": -0.1984, \n",
      "  \"neg\": 0.165, \n",
      "  \"neu\": 0.835, \n",
      "  \"pos\": 0.0\n",
      "}\n",
      "\n"
     ]
    }
   ],
   "source": [
    "phrase = \"I will. I will get everyone to drive hybrid cars! I swear it!\"\n",
    "url = f\"http://localhost:3500/user/{phrase}/get_sentiment\"\n",
    "\n",
    "data = requests.get(url).text\n",
    "print(data)"
   ]
  }
 ],
 "metadata": {
  "kernelspec": {
   "display_name": "Python 3",
   "language": "python",
   "name": "python3"
  },
  "language_info": {
   "codemirror_mode": {
    "name": "ipython",
    "version": 3
   },
   "file_extension": ".py",
   "mimetype": "text/x-python",
   "name": "python",
   "nbconvert_exporter": "python",
   "pygments_lexer": "ipython3",
   "version": "3.7.4"
  }
 },
 "nbformat": 4,
 "nbformat_minor": 2
}
