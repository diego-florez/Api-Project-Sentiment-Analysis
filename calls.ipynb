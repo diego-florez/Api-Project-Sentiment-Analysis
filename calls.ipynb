{
 "cells": [
  {
   "cell_type": "code",
   "execution_count": 12,
   "metadata": {},
   "outputs": [],
   "source": [
    "import requests"
   ]
  },
  {
   "cell_type": "markdown",
   "metadata": {},
   "source": [
    "# API Connect"
   ]
  },
  {
   "cell_type": "code",
   "execution_count": 92,
   "metadata": {
    "scrolled": true
   },
   "outputs": [
    {
     "data": {
      "text/plain": [
       "{'Hi! Welcome to the cartoon App': 'We will be guiding you through the whole process. 1st use the following command to add your user and create a chat: /user/add. However, if you have any doubts during the procress, you can find all the info of how to use it here --> https://github.com/diego-florez/Api-Project-Sentiment-Analysis '}"
      ]
     },
     "execution_count": 92,
     "metadata": {},
     "output_type": "execute_result"
    }
   ],
   "source": [
    "url = \"http://localhost:3500/\"\n",
    "requests.get(url).json()"
   ]
  },
  {
   "cell_type": "markdown",
   "metadata": {},
   "source": [
    "# Add User + Create Chat (with post)"
   ]
  },
  {
   "cell_type": "code",
   "execution_count": 109,
   "metadata": {
    "scrolled": false
   },
   "outputs": [
    {
     "data": {
      "text/plain": [
       "'{\\n  \"Congrats! You have been added to the cartoon App\": \"However your chat is empty, so you wanna know new friends? Please use the following command: user/<name>/<chat_name>/recommend\"\\n}\\n'"
      ]
     },
     "execution_count": 109,
     "metadata": {},
     "output_type": "execute_result"
    }
   ],
   "source": [
    "url = \"http://localhost:3500/user/add\"\n",
    "\n",
    "myobj = {\"chat_name\":\"nasties\",'name': 'juanjo', \"text\": \"today is a super cool day\"}\n",
    "\n",
    "requests.post(url, data = myobj).text"
   ]
  },
  {
   "cell_type": "markdown",
   "metadata": {},
   "source": [
    "# Add User + Create Chat (with get)"
   ]
  },
  {
   "cell_type": "code",
   "execution_count": 117,
   "metadata": {},
   "outputs": [
    {
     "name": "stdout",
     "output_type": "stream",
     "text": [
      "{\n",
      "  \"Congrats! You have been added to the cartoon App\": \"However your chat is empty, so you wanna know new friends? Please use the following command: /user/<name>/<chat_name>/recommend\"\n",
      "}\n",
      "\n"
     ]
    }
   ],
   "source": [
    "name = \"will\"\n",
    "chat_name = \"nasties\"\n",
    "text = \"I will go and find Jack, he must be in Tortuga drinking and you know..\"\n",
    "url = f\"http://localhost:3500/user/{name}/{chat_name}/{text}/create\"\n",
    "\n",
    "data = requests.get(url).text\n",
    "print(data)"
   ]
  },
  {
   "cell_type": "markdown",
   "metadata": {},
   "source": [
    "# User Recommend"
   ]
  },
  {
   "cell_type": "code",
   "execution_count": 118,
   "metadata": {
    "scrolled": false
   },
   "outputs": [
    {
     "name": "stdout",
     "output_type": "stream",
     "text": [
      "{\n",
      "  \"Below you see will your new friends!\": \"After checking them and their comments, if you want to analyze the sentiment of your new friends use the command /user/<phrase>/get_sentiment\", \n",
      "  \"Here you have your most similar users and their similarity with you!\": {\n",
      "    \"0\": {\n",
      "      \"Phrase\": \"Jack, please. I'm married.\", \n",
      "      \"Similarity\": 0.2182692933312927, \n",
      "      \"User\": \"Soap Actress\"\n",
      "    }, \n",
      "    \"1\": {\n",
      "      \"Phrase\": \"And?\", \n",
      "      \"Similarity\": 0.2030626921647606, \n",
      "      \"User\": \"Homer Simpson\"\n",
      "    }, \n",
      "    \"2\": {\n",
      "      \"Phrase\": \"And?\", \n",
      "      \"Similarity\": 0.2030626921647606, \n",
      "      \"User\": \"Homer Simpson\"\n",
      "    }, \n",
      "    \"3\": {\n",
      "      \"Phrase\": \"And?\", \n",
      "      \"Similarity\": 0.2030626921647606, \n",
      "      \"User\": \"Bart Simpson\"\n",
      "    }, \n",
      "    \"4\": {\n",
      "      \"Phrase\": \"And?\", \n",
      "      \"Similarity\": 0.2030626921647606, \n",
      "      \"User\": \"Bart Simpson\"\n",
      "    }, \n",
      "    \"5\": {\n",
      "      \"Phrase\": \"Oh, that must be the babysitter.\", \n",
      "      \"Similarity\": 0.19621725377398597, \n",
      "      \"User\": \"Marge Simpson\"\n",
      "    }, \n",
      "    \"6\": {\n",
      "      \"Phrase\": \"And we will all miss you, Chef,  but we know you must do what your heart tells you..\", \n",
      "      \"Similarity\": 0.1914022527981364, \n",
      "      \"User\": \"Mayor McDaniels\"\n",
      "    }, \n",
      "    \"7\": {\n",
      "      \"Phrase\": \"I love you, but I must kill you.\", \n",
      "      \"Similarity\": 0.19011072074819718, \n",
      "      \"User\": \"Homer Simpson\"\n",
      "    }\n",
      "  }, \n",
      "  \"They are cool right?\": \"Now you can use again the command /user/<name>/<chat_name>/<text>/create to create a chat with your friends or add them to your current chat\"\n",
      "}\n",
      "\n"
     ]
    }
   ],
   "source": [
    "name = \"will\"\n",
    "chat_name = \"nasties\"\n",
    "url = f\"http://localhost:3500/user/{name}/{chat_name}/recommend\"\n",
    "\n",
    "data = requests.get(url).text\n",
    "print(data)"
   ]
  },
  {
   "cell_type": "markdown",
   "metadata": {},
   "source": [
    "# Get Sentiment"
   ]
  },
  {
   "cell_type": "code",
   "execution_count": 112,
   "metadata": {},
   "outputs": [
    {
     "name": "stdout",
     "output_type": "stream",
     "text": [
      "{\n",
      "  \"compound\": -0.1984, \n",
      "  \"neg\": 0.165, \n",
      "  \"neu\": 0.835, \n",
      "  \"pos\": 0.0\n",
      "}\n",
      "\n"
     ]
    }
   ],
   "source": [
    "phrase = \"I will. I will get everyone to drive hybrid cars! I swear it!\"\n",
    "url = f\"http://localhost:3500/user/{phrase}/get_sentiment\"\n",
    "\n",
    "data = requests.get(url).text\n",
    "print(data)"
   ]
  }
 ],
 "metadata": {
  "kernelspec": {
   "display_name": "Python 3",
   "language": "python",
   "name": "python3"
  },
  "language_info": {
   "codemirror_mode": {
    "name": "ipython",
    "version": 3
   },
   "file_extension": ".py",
   "mimetype": "text/x-python",
   "name": "python",
   "nbconvert_exporter": "python",
   "pygments_lexer": "ipython3",
   "version": "3.7.4"
  }
 },
 "nbformat": 4,
 "nbformat_minor": 2
}
