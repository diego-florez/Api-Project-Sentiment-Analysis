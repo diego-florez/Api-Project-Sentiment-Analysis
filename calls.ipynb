{
 "cells": [
  {
   "cell_type": "code",
   "execution_count": 12,
   "metadata": {},
   "outputs": [],
   "source": [
    "import requests"
   ]
  },
  {
   "cell_type": "markdown",
   "metadata": {},
   "source": [
    "# API Connect"
   ]
  },
  {
   "cell_type": "code",
   "execution_count": 92,
   "metadata": {
    "scrolled": true
   },
   "outputs": [
    {
     "data": {
      "text/plain": [
       "{'Hi! Welcome to the cartoon App': 'We will be guiding you through the whole process. 1st use the following command to add your user and create a chat: /user/add. However, if you have any doubts during the procress, you can find all the info of how to use it here --> https://github.com/diego-florez/Api-Project-Sentiment-Analysis '}"
      ]
     },
     "execution_count": 92,
     "metadata": {},
     "output_type": "execute_result"
    }
   ],
   "source": [
    "url = \"http://localhost:3500/\"\n",
    "requests.get(url).json()"
   ]
  },
  {
   "cell_type": "markdown",
   "metadata": {},
   "source": [
    "# Add User + Create Chat"
   ]
  },
  {
   "cell_type": "code",
   "execution_count": 97,
   "metadata": {
    "scrolled": false
   },
   "outputs": [
    {
     "data": {
      "text/plain": [
       "'{\\n  \"Congrats! You have been added to the cartoon App\": \"However your chat is empty, so you wanna know new friends? Please use the following command: user/<name>/<chat_name>/recommend\"\\n}\\n'"
      ]
     },
     "execution_count": 97,
     "metadata": {},
     "output_type": "execute_result"
    }
   ],
   "source": [
    "url = \"http://localhost:3500/user/add\"\n",
    "\n",
    "myobj = {\"chat_name\":\"nasties\",'name': 'nore', \"text\": \"Let's go far away from here, drink some shots and play guitar\"}\n",
    "\n",
    "requests.post(url, data = myobj).text"
   ]
  },
  {
   "cell_type": "markdown",
   "metadata": {},
   "source": [
    "# User Recommend"
   ]
  },
  {
   "cell_type": "code",
   "execution_count": 104,
   "metadata": {
    "scrolled": false
   },
   "outputs": [
    {
     "name": "stdout",
     "output_type": "stream",
     "text": [
      "{\n",
      "  \"By the way\": \"If you want to analyze the sentiment of your new friends use the command /user/<phrase>/get_sentiment\", \n",
      "  \"Here you have the your most similar users and their similarity with you!\": {\n",
      "    \"0\": {\n",
      "      \"Phrase\": \"Go Away.\", \n",
      "      \"Similarity\": 0.34292007283096865, \n",
      "      \"User\": \"Homer Simpson\"\n",
      "    }, \n",
      "    \"1\": {\n",
      "      \"Phrase\": \"Come on, let's go. \", \n",
      "      \"Similarity\": 0.2628512129996257, \n",
      "      \"User\": \"Stan\"\n",
      "    }, \n",
      "    \"2\": {\n",
      "      \"Phrase\": \"Dad, let's just go!\", \n",
      "      \"Similarity\": 0.25097537823370264, \n",
      "      \"User\": \"Kyle\"\n",
      "    }, \n",
      "    \"3\": {\n",
      "      \"Phrase\": \"Get away from me, swine.\", \n",
      "      \"Similarity\": 0.2369075035987968, \n",
      "      \"User\": \"Gloria\"\n",
      "    }, \n",
      "    \"4\": {\n",
      "      \"Phrase\": \"Hey, let's go! Emergency! Life-or-death here!\", \n",
      "      \"Similarity\": 0.2179010100561613, \n",
      "      \"User\": \"Homer Simpson\"\n",
      "    }, \n",
      "    \"5\": {\n",
      "      \"Phrase\": \"Come on, Mohammad, let's get some tea. \", \n",
      "      \"Similarity\": 0.20785442442132346, \n",
      "      \"User\": \"Peter\"\n",
      "    }\n",
      "  }, \n",
      "  \"They are cool right?\": \"Now you can use again the command user/add again to create a chat with your friends\"\n",
      "}\n",
      "\n"
     ]
    }
   ],
   "source": [
    "name = \"nore\"\n",
    "chat_name = \"nasties\"\n",
    "url = f\"http://localhost:3500/user/{name}/{chat_name}/recommend\"\n",
    "\n",
    "data = requests.get(url).text\n",
    "print(data)"
   ]
  },
  {
   "cell_type": "markdown",
   "metadata": {},
   "source": [
    "# Get Sentiment"
   ]
  },
  {
   "cell_type": "code",
   "execution_count": 106,
   "metadata": {},
   "outputs": [
    {
     "name": "stdout",
     "output_type": "stream",
     "text": [
      "{\n",
      "  \"compound\": 0.0, \n",
      "  \"neg\": 0.0, \n",
      "  \"neu\": 1.0, \n",
      "  \"pos\": 0.0\n",
      "}\n",
      "\n"
     ]
    }
   ],
   "source": [
    "phrase = \"Get away from me, swine\"\n",
    "url = f\"http://localhost:3500/user/{phrase}/get_sentiment\"\n",
    "\n",
    "data = requests.get(url).text\n",
    "print(data)"
   ]
  }
 ],
 "metadata": {
  "kernelspec": {
   "display_name": "Python 3",
   "language": "python",
   "name": "python3"
  },
  "language_info": {
   "codemirror_mode": {
    "name": "ipython",
    "version": 3
   },
   "file_extension": ".py",
   "mimetype": "text/x-python",
   "name": "python",
   "nbconvert_exporter": "python",
   "pygments_lexer": "ipython3",
   "version": "3.7.4"
  }
 },
 "nbformat": 4,
 "nbformat_minor": 2
}
