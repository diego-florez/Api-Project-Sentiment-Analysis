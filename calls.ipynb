{
 "cells": [
  {
   "cell_type": "code",
   "execution_count": 12,
   "metadata": {},
   "outputs": [],
   "source": [
    "import requests"
   ]
  },
  {
   "cell_type": "markdown",
   "metadata": {},
   "source": [
    "# API Connect"
   ]
  },
  {
   "cell_type": "code",
   "execution_count": 14,
   "metadata": {
    "scrolled": true
   },
   "outputs": [
    {
     "data": {
      "text/plain": [
       "{'Hi! Welcome to the cartoon API': 'We will be guiding you through the whole process. 1st use the following command to add your user: /user/add. However, if you have any doubts during the procress, you can find all the info of how to use it here --> https://github.com/diego-florez/Api-Project-Sentiment-Analysis '}"
      ]
     },
     "execution_count": 14,
     "metadata": {},
     "output_type": "execute_result"
    }
   ],
   "source": [
    "url = \"http://localhost:3500/\"\n",
    "requests.get(url).json()"
   ]
  },
  {
   "cell_type": "markdown",
   "metadata": {},
   "source": [
    "# Add User + Create Chat"
   ]
  },
  {
   "cell_type": "code",
   "execution_count": 81,
   "metadata": {
    "scrolled": false
   },
   "outputs": [
    {
     "data": {
      "text/plain": [
       "'{\\n  \"Congrats! You have been added to the cartoon App\": \"However your chat is empty, so you wanna know new friends? Please use the following command: user/<name>/<chat_name>/recommend\"\\n}\\n'"
      ]
     },
     "execution_count": 81,
     "metadata": {},
     "output_type": "execute_result"
    }
   ],
   "source": [
    "url = \"http://localhost:3500/user/add\"\n",
    "\n",
    "myobj = {\"chat_name\":\"nasties\",'name': 'Mitchell', \"text\": \"What am I doing here?\"}\n",
    "\n",
    "requests.post(url, data = myobj).text"
   ]
  },
  {
   "cell_type": "markdown",
   "metadata": {},
   "source": [
    "# User Recommend"
   ]
  },
  {
   "cell_type": "code",
   "execution_count": 87,
   "metadata": {
    "scrolled": false
   },
   "outputs": [
    {
     "name": "stdout",
     "output_type": "stream",
     "text": [
      "{\n",
      "  \"By the way\": \"If you want to analyze the sentiment of your new friends use the command /user/<phrase>/get_sentiment\", \n",
      "  \"Here you have the your most similar users and their similarity with you!\": {\n",
      "    \"0\": {\n",
      "      \"Phrase\": \"Who wants to know?!\", \n",
      "      \"Similarity\": 0.2975092128127149, \n",
      "      \"User\": \"Bart\"\n",
      "    }, \n",
      "    \"1\": {\n",
      "      \"Phrase\": \"Children! Go!\", \n",
      "      \"Similarity\": 0.28697075474745803, \n",
      "      \"User\": \"Marge Simpson\"\n",
      "    }, \n",
      "    \"2\": {\n",
      "      \"Phrase\": \"Good lord! There's a fly in my drink!\", \n",
      "      \"Similarity\": 0.24662284543164914, \n",
      "      \"User\": \"Sophisticate #1\"\n",
      "    }, \n",
      "    \"3\": {\n",
      "      \"Phrase\": \"We drink and take drugs.\", \n",
      "      \"Similarity\": 0.2438608795750049, \n",
      "      \"User\": \"Brian\"\n",
      "    }, \n",
      "    \"4\": {\n",
      "      \"Phrase\": \"I have to go to the bathroom, Bart.\", \n",
      "      \"Similarity\": 0.22136060420391035, \n",
      "      \"User\": \"Martin Prince\"\n",
      "    }, \n",
      "    \"5\": {\n",
      "      \"Phrase\": \"I don't want it.\", \n",
      "      \"Similarity\": 0.21927128695729295, \n",
      "      \"User\": \"Milhouse Van Houten\"\n",
      "    }\n",
      "  }, \n",
      "  \"They are cool right?\": \"Now you can use again the command user/add again to create a chat with your friends\"\n",
      "}\n",
      "\n"
     ]
    }
   ],
   "source": [
    "name = \"nore\"\n",
    "chat_name = \"buddies\"\n",
    "url = f\"http://localhost:3500/user/{name}/{chat_name}/recommend\"\n",
    "\n",
    "data = requests.get(url).text\n",
    "print(data)"
   ]
  },
  {
   "cell_type": "markdown",
   "metadata": {},
   "source": [
    "# Get Sentiment"
   ]
  },
  {
   "cell_type": "code",
   "execution_count": 89,
   "metadata": {},
   "outputs": [
    {
     "name": "stdout",
     "output_type": "stream",
     "text": [
      "{\n",
      "  \"compound\": 0.0, \n",
      "  \"neg\": 0.0, \n",
      "  \"neu\": 1.0, \n",
      "  \"pos\": 0.0\n",
      "}\n",
      "\n"
     ]
    }
   ],
   "source": [
    "phrase = \"We drink and take drugs\"\n",
    "url = f\"http://localhost:3500/user/{phrase}/get_sentiment\"\n",
    "\n",
    "data = requests.get(url).text\n",
    "print(data)"
   ]
  }
 ],
 "metadata": {
  "kernelspec": {
   "display_name": "Python 3",
   "language": "python",
   "name": "python3"
  },
  "language_info": {
   "codemirror_mode": {
    "name": "ipython",
    "version": 3
   },
   "file_extension": ".py",
   "mimetype": "text/x-python",
   "name": "python",
   "nbconvert_exporter": "python",
   "pygments_lexer": "ipython3",
   "version": "3.7.4"
  }
 },
 "nbformat": 4,
 "nbformat_minor": 2
}
